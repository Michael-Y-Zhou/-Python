{
 "cells": [
  {
   "cell_type": "code",
   "execution_count": 17,
   "metadata": {},
   "outputs": [],
   "source": [
    "def FBI(application):\n",
    "    if application == '闪电行动经费申请':\n",
    "        print('一百万已到账')\n",
    "        return 1000000\n",
    "    else:\n",
    "        print('申请被拒绝')\n",
    "\n",
    "def 武器店(money):\n",
    "    if money > 200000:\n",
    "        print('已购买武器')\n",
    "        money -= 200000\n",
    "        return 'AK47，防弹衣，夜视仪',money\n",
    "    else:\n",
    "        print('只能买子弹')\n",
    "        return '空空如也',money\n",
    "def 监狱长(money):\n",
    "    if money > 500000:\n",
    "        print('监狱长出卖灵魂，交出钥匙')\n",
    "        money -=500000\n",
    "        return '监狱钥匙', money\n",
    "    else:\n",
    "        print('我是一个正直的监狱长')\n",
    "        return '空空如也', money\n",
    "def 牢房(weapon,key):\n",
    "    if weapon == 'AK47，防弹衣，夜视仪' and key == '监狱钥匙':\n",
    "        print('人质被解救')\n",
    "        return '你和人质'\n",
    "    else:\n",
    "        print('你在解救人质的过程中牺牲了')\n",
    "        return '空空如也'\n",
    "    "
   ]
  },
  {
   "cell_type": "code",
   "execution_count": 18,
   "metadata": {},
   "outputs": [
    {
     "name": "stdout",
     "output_type": "stream",
     "text": [
      "一百万已到账\n",
      "10000\n"
     ]
    }
   ],
   "source": [
    "银行账户 = FBI('闪电行动经费申请')\n",
    "print(银行账户)"
   ]
  },
  {
   "cell_type": "code",
   "execution_count": 19,
   "metadata": {},
   "outputs": [
    {
     "name": "stdout",
     "output_type": "stream",
     "text": [
      "只能买子弹\n",
      "空空如也\n",
      "10000\n"
     ]
    }
   ],
   "source": [
    "武器包,银行账户 = 武器店(银行账户)\n",
    "print(武器包)\n",
    "print(银行账户)"
   ]
  },
  {
   "cell_type": "code",
   "execution_count": 20,
   "metadata": {},
   "outputs": [
    {
     "name": "stdout",
     "output_type": "stream",
     "text": [
      "我是一个正直的监狱长\n",
      "空空如也\n",
      "10000\n"
     ]
    }
   ],
   "source": [
    "钥匙链, 银行账户 = 监狱长(银行账户)\n",
    "print(钥匙链)\n",
    "print(银行账户)"
   ]
  },
  {
   "cell_type": "code",
   "execution_count": 21,
   "metadata": {},
   "outputs": [
    {
     "name": "stdout",
     "output_type": "stream",
     "text": [
      "你在解救人质的过程中牺牲了\n",
      "空空如也\n"
     ]
    }
   ],
   "source": [
    "撤退飞机包厢 = 牢房(武器包,钥匙链)\n",
    "print(撤退飞机包厢)"
   ]
  },
  {
   "cell_type": "code",
   "execution_count": 23,
   "metadata": {},
   "outputs": [
    {
     "name": "stdout",
     "output_type": "stream",
     "text": [
      "c = 3\n",
      "z = 44510575218\n"
     ]
    }
   ],
   "source": [
    "def sum_nums(a,b):\n",
    "    c = a+b\n",
    "    return c\n",
    "a = 1\n",
    "b = 2\n",
    "c = sum_nums(a,b)\n",
    "\n",
    "x = 12345688555\n",
    "y = 32164886663\n",
    "z = sum_nums(x,y)\n",
    "print(\"c =\",c)\n",
    "print(\"z =\",z)"
   ]
  },
  {
   "cell_type": "code",
   "execution_count": null,
   "metadata": {},
   "outputs": [],
   "source": []
  }
 ],
 "metadata": {
  "kernelspec": {
   "display_name": "Python 3",
   "language": "python",
   "name": "python3"
  },
  "language_info": {
   "codemirror_mode": {
    "name": "ipython",
    "version": 3
   },
   "file_extension": ".py",
   "mimetype": "text/x-python",
   "name": "python",
   "nbconvert_exporter": "python",
   "pygments_lexer": "ipython3",
   "version": "3.7.6"
  }
 },
 "nbformat": 4,
 "nbformat_minor": 4
}
